{
 "cells": [
  {
   "cell_type": "code",
   "execution_count": 1,
   "metadata": {},
   "outputs": [],
   "source": [
    "import pandas as pd\n",
    "import numpy as np\n",
    "import csv\n",
    "#!pip install sqlalchemy\n",
    "import datetime as dt\n",
    "import sqlite3"
   ]
  },
  {
   "cell_type": "code",
   "execution_count": 2,
   "metadata": {},
   "outputs": [],
   "source": [
    "#Reading tnc_bases file\n",
    "df_tnc_data = pd.read_csv(\"tnc_bases.csv\")\n",
    "#Reading zone_lookup file\n",
    "df_zone_data = pd.read_csv(\"zone_lookup.csv\")"
   ]
  },
  {
   "cell_type": "code",
   "execution_count": 3,
   "metadata": {},
   "outputs": [
    {
     "data": {
      "text/html": [
       "<div>\n",
       "<style scoped>\n",
       "    .dataframe tbody tr th:only-of-type {\n",
       "        vertical-align: middle;\n",
       "    }\n",
       "\n",
       "    .dataframe tbody tr th {\n",
       "        vertical-align: top;\n",
       "    }\n",
       "\n",
       "    .dataframe thead th {\n",
       "        text-align: right;\n",
       "    }\n",
       "</style>\n",
       "<table border=\"1\" class=\"dataframe\">\n",
       "  <thead>\n",
       "    <tr style=\"text-align: right;\">\n",
       "      <th></th>\n",
       "      <th>Pickup_DateTime</th>\n",
       "      <th>DropOff_datetime</th>\n",
       "      <th>PUlocationID</th>\n",
       "      <th>DOlocationID</th>\n",
       "      <th>SR_Flag</th>\n",
       "      <th>Dispatching_base_number</th>\n",
       "      <th>Dispatching_base_num</th>\n",
       "    </tr>\n",
       "  </thead>\n",
       "  <tbody>\n",
       "    <tr>\n",
       "      <th>0</th>\n",
       "      <td>2018-06-05 05:48:34</td>\n",
       "      <td>2018-06-05 05:58:07</td>\n",
       "      <td>NaN</td>\n",
       "      <td>265.0</td>\n",
       "      <td>NaN</td>\n",
       "      <td>B01509</td>\n",
       "      <td>NaN</td>\n",
       "    </tr>\n",
       "    <tr>\n",
       "      <th>1</th>\n",
       "      <td>2018-06-05 05:53:35</td>\n",
       "      <td>2018-06-05 05:58:50</td>\n",
       "      <td>NaN</td>\n",
       "      <td>265.0</td>\n",
       "      <td>NaN</td>\n",
       "      <td>B01509</td>\n",
       "      <td>NaN</td>\n",
       "    </tr>\n",
       "  </tbody>\n",
       "</table>\n",
       "</div>"
      ],
      "text/plain": [
       "       Pickup_DateTime     DropOff_datetime  PUlocationID  DOlocationID  \\\n",
       "0  2018-06-05 05:48:34  2018-06-05 05:58:07           NaN         265.0   \n",
       "1  2018-06-05 05:53:35  2018-06-05 05:58:50           NaN         265.0   \n",
       "\n",
       "   SR_Flag Dispatching_base_number  Dispatching_base_num  \n",
       "0      NaN                  B01509                   NaN  \n",
       "1      NaN                  B01509                   NaN  "
      ]
     },
     "execution_count": 3,
     "metadata": {},
     "output_type": "execute_result"
    }
   ],
   "source": [
    "#Reading june_trip data file\n",
    "df_trip_data = pd.read_csv(\"fhv_tripdata_2018-06.csv\",low_memory=False)\n",
    "df_trip_data.head(2)"
   ]
  },
  {
   "cell_type": "code",
   "execution_count": 6,
   "metadata": {},
   "outputs": [
    {
     "data": {
      "text/html": [
       "<div>\n",
       "<style scoped>\n",
       "    .dataframe tbody tr th:only-of-type {\n",
       "        vertical-align: middle;\n",
       "    }\n",
       "\n",
       "    .dataframe tbody tr th {\n",
       "        vertical-align: top;\n",
       "    }\n",
       "\n",
       "    .dataframe thead th {\n",
       "        text-align: right;\n",
       "    }\n",
       "</style>\n",
       "<table border=\"1\" class=\"dataframe\">\n",
       "  <thead>\n",
       "    <tr style=\"text-align: right;\">\n",
       "      <th></th>\n",
       "      <th>Pickup_DateTime</th>\n",
       "      <th>DropOff_datetime</th>\n",
       "      <th>PUlocationID</th>\n",
       "      <th>DOlocationID</th>\n",
       "      <th>SR_Flag</th>\n",
       "      <th>Dispatching_base_number</th>\n",
       "    </tr>\n",
       "  </thead>\n",
       "  <tbody>\n",
       "    <tr>\n",
       "      <th>0</th>\n",
       "      <td>2018-06-05 05:48:34</td>\n",
       "      <td>2018-06-05 05:58:07</td>\n",
       "      <td>NaN</td>\n",
       "      <td>265.0</td>\n",
       "      <td>NaN</td>\n",
       "      <td>B01509</td>\n",
       "    </tr>\n",
       "    <tr>\n",
       "      <th>1</th>\n",
       "      <td>2018-06-05 05:53:35</td>\n",
       "      <td>2018-06-05 05:58:50</td>\n",
       "      <td>NaN</td>\n",
       "      <td>265.0</td>\n",
       "      <td>NaN</td>\n",
       "      <td>B01509</td>\n",
       "    </tr>\n",
       "  </tbody>\n",
       "</table>\n",
       "</div>"
      ],
      "text/plain": [
       "       Pickup_DateTime     DropOff_datetime  PUlocationID  DOlocationID  \\\n",
       "0  2018-06-05 05:48:34  2018-06-05 05:58:07           NaN         265.0   \n",
       "1  2018-06-05 05:53:35  2018-06-05 05:58:50           NaN         265.0   \n",
       "\n",
       "   SR_Flag Dispatching_base_number  \n",
       "0      NaN                  B01509  \n",
       "1      NaN                  B01509  "
      ]
     },
     "execution_count": 6,
     "metadata": {},
     "output_type": "execute_result"
    }
   ],
   "source": [
    "#Column Dispatching_base_num is relevant here \n",
    "#Droping would reduce the confusion \n",
    "df_trip_data.drop(['Dispatching_base_num'], axis=1).head(2)"
   ]
  },
  {
   "cell_type": "code",
   "execution_count": 7,
   "metadata": {},
   "outputs": [
    {
     "data": {
      "text/plain": [
       "(21135283, 7)"
      ]
     },
     "execution_count": 7,
     "metadata": {},
     "output_type": "execute_result"
    }
   ],
   "source": [
    "#Explorator Data Analysis:\n",
    "df_trip_data.shape"
   ]
  },
  {
   "cell_type": "code",
   "execution_count": 8,
   "metadata": {},
   "outputs": [
    {
     "data": {
      "text/html": [
       "<div>\n",
       "<style scoped>\n",
       "    .dataframe tbody tr th:only-of-type {\n",
       "        vertical-align: middle;\n",
       "    }\n",
       "\n",
       "    .dataframe tbody tr th {\n",
       "        vertical-align: top;\n",
       "    }\n",
       "\n",
       "    .dataframe thead th {\n",
       "        text-align: right;\n",
       "    }\n",
       "</style>\n",
       "<table border=\"1\" class=\"dataframe\">\n",
       "  <thead>\n",
       "    <tr style=\"text-align: right;\">\n",
       "      <th></th>\n",
       "      <th>0</th>\n",
       "      <th>1</th>\n",
       "      <th>2</th>\n",
       "      <th>3</th>\n",
       "      <th>4</th>\n",
       "      <th>5</th>\n",
       "    </tr>\n",
       "  </thead>\n",
       "  <tbody>\n",
       "    <tr>\n",
       "      <th>0</th>\n",
       "      <td>B02510</td>\n",
       "      <td>Tri-City,</td>\n",
       "      <td>LLC(Lyft)</td>\n",
       "      <td>None</td>\n",
       "      <td>None</td>\n",
       "      <td>None</td>\n",
       "    </tr>\n",
       "    <tr>\n",
       "      <th>1</th>\n",
       "      <td>B02844</td>\n",
       "      <td>Endor</td>\n",
       "      <td>Car</td>\n",
       "      <td>&amp;</td>\n",
       "      <td>Driver,</td>\n",
       "      <td>LLC(Lyft)</td>\n",
       "    </tr>\n",
       "  </tbody>\n",
       "</table>\n",
       "</div>"
      ],
      "text/plain": [
       "        0          1          2     3        4          5\n",
       "0  B02510  Tri-City,  LLC(Lyft)  None     None       None\n",
       "1  B02844      Endor        Car     &  Driver,  LLC(Lyft)"
      ]
     },
     "execution_count": 8,
     "metadata": {},
     "output_type": "execute_result"
    }
   ],
   "source": [
    "#Spliting the tnc_Bases columns to separate the base number and and companay app information \n",
    "df_tnc_data.tnc_Bases.str.split(expand=True,).head(2)"
   ]
  },
  {
   "cell_type": "code",
   "execution_count": 9,
   "metadata": {},
   "outputs": [
    {
     "data": {
      "text/plain": [
       "0    B02510\n",
       "1    B02844\n",
       "Name: 0, dtype: object"
      ]
     },
     "execution_count": 9,
     "metadata": {},
     "output_type": "execute_result"
    }
   ],
   "source": [
    "df_tnc_data.tnc_Bases.str.split(expand=True,)[0].head(2)"
   ]
  },
  {
   "cell_type": "code",
   "execution_count": 77,
   "metadata": {},
   "outputs": [
    {
     "data": {
      "text/plain": [
       "pandas.core.series.Series"
      ]
     },
     "execution_count": 77,
     "metadata": {},
     "output_type": "execute_result"
    }
   ],
   "source": [
    "type(df_tnc_data.tnc_Bases.str.split(expand=True,)[0])"
   ]
  },
  {
   "cell_type": "code",
   "execution_count": 10,
   "metadata": {},
   "outputs": [],
   "source": [
    "# creating a separate column to store the company app information\n",
    "df_tnc_data['App_Comp'] = df_tnc_data.tnc_Bases.str.split().str[-1]"
   ]
  },
  {
   "cell_type": "code",
   "execution_count": 11,
   "metadata": {},
   "outputs": [
    {
     "data": {
      "text/html": [
       "<div>\n",
       "<style scoped>\n",
       "    .dataframe tbody tr th:only-of-type {\n",
       "        vertical-align: middle;\n",
       "    }\n",
       "\n",
       "    .dataframe tbody tr th {\n",
       "        vertical-align: top;\n",
       "    }\n",
       "\n",
       "    .dataframe thead th {\n",
       "        text-align: right;\n",
       "    }\n",
       "</style>\n",
       "<table border=\"1\" class=\"dataframe\">\n",
       "  <thead>\n",
       "    <tr style=\"text-align: right;\">\n",
       "      <th></th>\n",
       "      <th>tnc_Bases</th>\n",
       "      <th>App_Comp</th>\n",
       "      <th>Dispatching_base_number</th>\n",
       "    </tr>\n",
       "  </thead>\n",
       "  <tbody>\n",
       "    <tr>\n",
       "      <th>0</th>\n",
       "      <td>B02510 Tri-City, LLC(Lyft)</td>\n",
       "      <td>LLC(Lyft)</td>\n",
       "      <td>B02510</td>\n",
       "    </tr>\n",
       "    <tr>\n",
       "      <th>1</th>\n",
       "      <td>B02844 Endor Car &amp; Driver, LLC(Lyft)</td>\n",
       "      <td>LLC(Lyft)</td>\n",
       "      <td>B02844</td>\n",
       "    </tr>\n",
       "  </tbody>\n",
       "</table>\n",
       "</div>"
      ],
      "text/plain": [
       "                              tnc_Bases   App_Comp Dispatching_base_number\n",
       "0            B02510 Tri-City, LLC(Lyft)  LLC(Lyft)                  B02510\n",
       "1  B02844 Endor Car & Driver, LLC(Lyft)  LLC(Lyft)                  B02844"
      ]
     },
     "execution_count": 11,
     "metadata": {},
     "output_type": "execute_result"
    }
   ],
   "source": [
    "#creating a separate column of Dispatching base number to join the trip data table to get the relevant information \n",
    "df_tnc_data['Dispatching_base_number']=df_tnc_data.tnc_Bases.str.split(expand=True,)[0]\n",
    "df_tnc_data.head(2)"
   ]
  },
  {
   "cell_type": "code",
   "execution_count": 12,
   "metadata": {},
   "outputs": [
    {
     "data": {
      "text/plain": [
       "array(['LLC(Lyft)', 'LLC(Via)', 'Juno', 'LLC(Uber)',\n",
       "       'Achtzehn-NY,LLC(Uber)', 'LLC.(Uber)',\n",
       "       'Einundzwanzig-NY,LLC(Uber)', 'Zwanzig-NY,LLC(Uber)',\n",
       "       'Zwolf-NY,LLC(Uber)'], dtype=object)"
      ]
     },
     "execution_count": 12,
     "metadata": {},
     "output_type": "execute_result"
    }
   ],
   "source": [
    "df_tnc_data.App_Comp.unique()"
   ]
  },
  {
   "cell_type": "code",
   "execution_count": 13,
   "metadata": {},
   "outputs": [
    {
     "data": {
      "text/html": [
       "<div>\n",
       "<style scoped>\n",
       "    .dataframe tbody tr th:only-of-type {\n",
       "        vertical-align: middle;\n",
       "    }\n",
       "\n",
       "    .dataframe tbody tr th {\n",
       "        vertical-align: top;\n",
       "    }\n",
       "\n",
       "    .dataframe thead th {\n",
       "        text-align: right;\n",
       "    }\n",
       "</style>\n",
       "<table border=\"1\" class=\"dataframe\">\n",
       "  <thead>\n",
       "    <tr style=\"text-align: right;\">\n",
       "      <th></th>\n",
       "      <th>tnc_Bases</th>\n",
       "      <th>App_Comp</th>\n",
       "      <th>Dispatching_base_number</th>\n",
       "      <th>Entity</th>\n",
       "    </tr>\n",
       "  </thead>\n",
       "  <tbody>\n",
       "    <tr>\n",
       "      <th>0</th>\n",
       "      <td>B02510 Tri-City, LLC(Lyft)</td>\n",
       "      <td>LLC(Lyft)</td>\n",
       "      <td>B02510</td>\n",
       "      <td>Lyft</td>\n",
       "    </tr>\n",
       "    <tr>\n",
       "      <th>1</th>\n",
       "      <td>B02844 Endor Car &amp; Driver, LLC(Lyft)</td>\n",
       "      <td>LLC(Lyft)</td>\n",
       "      <td>B02844</td>\n",
       "      <td>Lyft</td>\n",
       "    </tr>\n",
       "    <tr>\n",
       "      <th>2</th>\n",
       "      <td>B02800 Flatiron Transit, LLC(Via)</td>\n",
       "      <td>LLC(Via)</td>\n",
       "      <td>B02800</td>\n",
       "      <td>Via</td>\n",
       "    </tr>\n",
       "    <tr>\n",
       "      <th>3</th>\n",
       "      <td>B02914 Vulcan Cars, LLC d/b/a Juno</td>\n",
       "      <td>Juno</td>\n",
       "      <td>B02914</td>\n",
       "      <td>Juno</td>\n",
       "    </tr>\n",
       "    <tr>\n",
       "      <th>4</th>\n",
       "      <td>B02871 Acht-NY, LLC(Uber)</td>\n",
       "      <td>LLC(Uber)</td>\n",
       "      <td>B02871</td>\n",
       "      <td>Uber</td>\n",
       "    </tr>\n",
       "  </tbody>\n",
       "</table>\n",
       "</div>"
      ],
      "text/plain": [
       "                              tnc_Bases   App_Comp Dispatching_base_number  \\\n",
       "0            B02510 Tri-City, LLC(Lyft)  LLC(Lyft)                  B02510   \n",
       "1  B02844 Endor Car & Driver, LLC(Lyft)  LLC(Lyft)                  B02844   \n",
       "2     B02800 Flatiron Transit, LLC(Via)   LLC(Via)                  B02800   \n",
       "3    B02914 Vulcan Cars, LLC d/b/a Juno       Juno                  B02914   \n",
       "4             B02871 Acht-NY, LLC(Uber)  LLC(Uber)                  B02871   \n",
       "\n",
       "  Entity  \n",
       "0   Lyft  \n",
       "1   Lyft  \n",
       "2    Via  \n",
       "3   Juno  \n",
       "4   Uber  "
      ]
     },
     "execution_count": 13,
     "metadata": {},
     "output_type": "execute_result"
    }
   ],
   "source": [
    "#Adding a column Entity by segregating the App type from the column App_Comp\n",
    "df_tnc_data['Entity'] = df_tnc_data.App_Comp.str.extract('(Lyft|Via|Uber|Juno)')\n",
    "\n",
    "#if (df_tnc_data.App_Comp.str.contains('Lyft', regex=False)) :\n",
    "#    df_tnc_data['Entity'] = 'Lyft'\n",
    "#elif (df_tnc_data.App_Comp.str.contains('Via', regex=False)) :\n",
    "#    df_tnc_data['Entity'] = 'Via'\n",
    "#elif (df_tnc_data.App_Comp.str.contains('uber', regex=False)) :\n",
    "#    df_tnc_data['Entity'] = 'Uber'\n",
    "#elif (df_tnc_data.App_Comp.str.contains('Juno', regex=False)) :\n",
    "#    df_tnc_data['Entity'] = 'Juno'\n",
    "#else:\n",
    "#    df_tnc_data['Entity'] = 'Other'\n",
    "#df_tnc_data.loc[:,'Entity']=df_tnc_data.App_Comp.apply(lambda x: pd.Series(x)[pd.Series(x).str.contains('http')].values)\n",
    "#df_tnc_data['Entity'] = df_tnc_data.App_Comp.apply(lambda x: print('Lyft') if (pd.Series(x)[pd.Series(x).str.contains('Lyft')]))\n",
    "#;if (pd.Series(x)[pd.Series(x).str.contains('Uber')]): return('Uber'); else: return('Others'))\n",
    "#df_tnc_data.loc[:,'Entity'] = df_tnc_data.App_Comp.apply(lambda(x) : if (pd.Series(x)[pd.Series(x).str.contains('Lyft')]): return('lyft'); else: return('Uber'))\n",
    "df_tnc_data.head(5)"
   ]
  },
  {
   "cell_type": "code",
   "execution_count": 14,
   "metadata": {},
   "outputs": [
    {
     "data": {
      "text/plain": [
       "array(['Lyft', 'Via', 'Juno', 'Uber'], dtype=object)"
      ]
     },
     "execution_count": 14,
     "metadata": {},
     "output_type": "execute_result"
    }
   ],
   "source": [
    "df_tnc_data['Entity'].unique()"
   ]
  },
  {
   "cell_type": "code",
   "execution_count": 15,
   "metadata": {},
   "outputs": [
    {
     "data": {
      "text/html": [
       "<div>\n",
       "<style scoped>\n",
       "    .dataframe tbody tr th:only-of-type {\n",
       "        vertical-align: middle;\n",
       "    }\n",
       "\n",
       "    .dataframe tbody tr th {\n",
       "        vertical-align: top;\n",
       "    }\n",
       "\n",
       "    .dataframe thead th {\n",
       "        text-align: right;\n",
       "    }\n",
       "</style>\n",
       "<table border=\"1\" class=\"dataframe\">\n",
       "  <thead>\n",
       "    <tr style=\"text-align: right;\">\n",
       "      <th></th>\n",
       "      <th>Dispatching_base_number</th>\n",
       "      <th>Entity</th>\n",
       "    </tr>\n",
       "  </thead>\n",
       "  <tbody>\n",
       "    <tr>\n",
       "      <th>0</th>\n",
       "      <td>B02510</td>\n",
       "      <td>Lyft</td>\n",
       "    </tr>\n",
       "    <tr>\n",
       "      <th>1</th>\n",
       "      <td>B02844</td>\n",
       "      <td>Lyft</td>\n",
       "    </tr>\n",
       "  </tbody>\n",
       "</table>\n",
       "</div>"
      ],
      "text/plain": [
       "  Dispatching_base_number Entity\n",
       "0                  B02510   Lyft\n",
       "1                  B02844   Lyft"
      ]
     },
     "execution_count": 15,
     "metadata": {},
     "output_type": "execute_result"
    }
   ],
   "source": [
    "#creating a dictionary to fill the entity in the trip detail dataframe\n",
    "df_entity=df_tnc_data.loc[:,['Dispatching_base_number','Entity']]\n",
    "df_entity.head(2)"
   ]
  },
  {
   "cell_type": "code",
   "execution_count": 16,
   "metadata": {},
   "outputs": [],
   "source": [
    "Entity_dict=dict(zip(df_entity.Dispatching_base_number,df_entity.Entity))"
   ]
  },
  {
   "cell_type": "code",
   "execution_count": 17,
   "metadata": {},
   "outputs": [
    {
     "data": {
      "text/plain": [
       "{'B02510': 'Lyft',\n",
       " 'B02844': 'Lyft',\n",
       " 'B02800': 'Via',\n",
       " 'B02914': 'Juno',\n",
       " 'B02871': 'Uber',\n",
       " 'B02889': 'Uber',\n",
       " 'B02764': 'Uber',\n",
       " 'B02835': 'Uber',\n",
       " 'B02884': 'Uber',\n",
       " 'B02836': 'Uber',\n",
       " 'B02872': 'Uber',\n",
       " 'B02887': 'Uber',\n",
       " 'B02878': 'Uber',\n",
       " 'B02867': 'Uber',\n",
       " 'B02879': 'Uber',\n",
       " 'B02598': 'Uber',\n",
       " 'B02870': 'Uber',\n",
       " 'B02880': 'Uber',\n",
       " 'B02682': 'Uber',\n",
       " 'B02875': 'Uber',\n",
       " 'B02883': 'Uber',\n",
       " 'B02865': 'Uber',\n",
       " 'B02876': 'Uber',\n",
       " 'B02617': 'Uber',\n",
       " 'B02866': 'Uber',\n",
       " 'B02869': 'Uber',\n",
       " 'B02882': 'Uber',\n",
       " 'B02877': 'Uber'}"
      ]
     },
     "execution_count": 17,
     "metadata": {},
     "output_type": "execute_result"
    }
   ],
   "source": [
    "Entity_dict"
   ]
  },
  {
   "cell_type": "code",
   "execution_count": 90,
   "metadata": {},
   "outputs": [
    {
     "data": {
      "text/html": [
       "<div>\n",
       "<style scoped>\n",
       "    .dataframe tbody tr th:only-of-type {\n",
       "        vertical-align: middle;\n",
       "    }\n",
       "\n",
       "    .dataframe tbody tr th {\n",
       "        vertical-align: top;\n",
       "    }\n",
       "\n",
       "    .dataframe thead th {\n",
       "        text-align: right;\n",
       "    }\n",
       "</style>\n",
       "<table border=\"1\" class=\"dataframe\">\n",
       "  <thead>\n",
       "    <tr style=\"text-align: right;\">\n",
       "      <th></th>\n",
       "      <th>Pickup_DateTime</th>\n",
       "      <th>DropOff_datetime</th>\n",
       "      <th>PUlocationID</th>\n",
       "      <th>DOlocationID</th>\n",
       "      <th>SR_Flag</th>\n",
       "      <th>Dispatching_base_number</th>\n",
       "      <th>Dispatching_base_num</th>\n",
       "    </tr>\n",
       "  </thead>\n",
       "  <tbody>\n",
       "    <tr>\n",
       "      <th>0</th>\n",
       "      <td>2018-06-05 05:48:34</td>\n",
       "      <td>2018-06-05 05:58:07</td>\n",
       "      <td>NaN</td>\n",
       "      <td>265.0</td>\n",
       "      <td>NaN</td>\n",
       "      <td>B01509</td>\n",
       "      <td>NaN</td>\n",
       "    </tr>\n",
       "    <tr>\n",
       "      <th>1</th>\n",
       "      <td>2018-06-05 05:53:35</td>\n",
       "      <td>2018-06-05 05:58:50</td>\n",
       "      <td>NaN</td>\n",
       "      <td>265.0</td>\n",
       "      <td>NaN</td>\n",
       "      <td>B01509</td>\n",
       "      <td>NaN</td>\n",
       "    </tr>\n",
       "  </tbody>\n",
       "</table>\n",
       "</div>"
      ],
      "text/plain": [
       "       Pickup_DateTime     DropOff_datetime  PUlocationID  DOlocationID  \\\n",
       "0  2018-06-05 05:48:34  2018-06-05 05:58:07           NaN         265.0   \n",
       "1  2018-06-05 05:53:35  2018-06-05 05:58:50           NaN         265.0   \n",
       "\n",
       "   SR_Flag Dispatching_base_number  Dispatching_base_num  \n",
       "0      NaN                  B01509                   NaN  \n",
       "1      NaN                  B01509                   NaN  "
      ]
     },
     "execution_count": 90,
     "metadata": {},
     "output_type": "execute_result"
    }
   ],
   "source": [
    "df_trip_data.head(2)"
   ]
  },
  {
   "cell_type": "code",
   "execution_count": 19,
   "metadata": {},
   "outputs": [],
   "source": [
    "#Adding Entity to trip detail to do analysis Entity wise\n",
    "df_trip_data['Entity']=df_trip_data['Dispatching_base_number'].map(Entity_dict)"
   ]
  },
  {
   "cell_type": "code",
   "execution_count": 20,
   "metadata": {},
   "outputs": [
    {
     "data": {
      "text/plain": [
       "array([nan, 'Lyft', 'Juno', 'Via', 'Uber'], dtype=object)"
      ]
     },
     "execution_count": 20,
     "metadata": {},
     "output_type": "execute_result"
    }
   ],
   "source": [
    "df_trip_data.Entity.unique()"
   ]
  },
  {
   "cell_type": "code",
   "execution_count": 21,
   "metadata": {},
   "outputs": [],
   "source": [
    "# replacing na values in Entity with \"Others\" Entity \n",
    "df_trip_data[\"Entity\"].fillna(\"Others\", inplace = True) "
   ]
  },
  {
   "cell_type": "code",
   "execution_count": 22,
   "metadata": {},
   "outputs": [
    {
     "data": {
      "text/html": [
       "<div>\n",
       "<style scoped>\n",
       "    .dataframe tbody tr th:only-of-type {\n",
       "        vertical-align: middle;\n",
       "    }\n",
       "\n",
       "    .dataframe tbody tr th {\n",
       "        vertical-align: top;\n",
       "    }\n",
       "\n",
       "    .dataframe thead th {\n",
       "        text-align: right;\n",
       "    }\n",
       "</style>\n",
       "<table border=\"1\" class=\"dataframe\">\n",
       "  <thead>\n",
       "    <tr style=\"text-align: right;\">\n",
       "      <th></th>\n",
       "      <th>Pickup_DateTime</th>\n",
       "      <th>DropOff_datetime</th>\n",
       "      <th>PUlocationID</th>\n",
       "      <th>DOlocationID</th>\n",
       "      <th>SR_Flag</th>\n",
       "      <th>Dispatching_base_number</th>\n",
       "      <th>Dispatching_base_num</th>\n",
       "      <th>Entity</th>\n",
       "    </tr>\n",
       "  </thead>\n",
       "  <tbody>\n",
       "    <tr>\n",
       "      <th>0</th>\n",
       "      <td>2018-06-05 05:48:34</td>\n",
       "      <td>2018-06-05 05:58:07</td>\n",
       "      <td>NaN</td>\n",
       "      <td>265.0</td>\n",
       "      <td>NaN</td>\n",
       "      <td>B01509</td>\n",
       "      <td>NaN</td>\n",
       "      <td>Others</td>\n",
       "    </tr>\n",
       "    <tr>\n",
       "      <th>1</th>\n",
       "      <td>2018-06-05 05:53:35</td>\n",
       "      <td>2018-06-05 05:58:50</td>\n",
       "      <td>NaN</td>\n",
       "      <td>265.0</td>\n",
       "      <td>NaN</td>\n",
       "      <td>B01509</td>\n",
       "      <td>NaN</td>\n",
       "      <td>Others</td>\n",
       "    </tr>\n",
       "  </tbody>\n",
       "</table>\n",
       "</div>"
      ],
      "text/plain": [
       "       Pickup_DateTime     DropOff_datetime  PUlocationID  DOlocationID  \\\n",
       "0  2018-06-05 05:48:34  2018-06-05 05:58:07           NaN         265.0   \n",
       "1  2018-06-05 05:53:35  2018-06-05 05:58:50           NaN         265.0   \n",
       "\n",
       "   SR_Flag Dispatching_base_number  Dispatching_base_num  Entity  \n",
       "0      NaN                  B01509                   NaN  Others  \n",
       "1      NaN                  B01509                   NaN  Others  "
      ]
     },
     "execution_count": 22,
     "metadata": {},
     "output_type": "execute_result"
    }
   ],
   "source": [
    "df_trip_data.head(2)"
   ]
  },
  {
   "cell_type": "code",
   "execution_count": 24,
   "metadata": {},
   "outputs": [
    {
     "name": "stderr",
     "output_type": "stream",
     "text": [
      "C:\\ProgramData\\Anaconda3\\lib\\site-packages\\ipykernel_launcher.py:3: SettingWithCopyWarning: \n",
      "A value is trying to be set on a copy of a slice from a DataFrame.\n",
      "Try using .loc[row_indexer,col_indexer] = value instead\n",
      "\n",
      "See the caveats in the documentation: http://pandas.pydata.org/pandas-docs/stable/indexing.html#indexing-view-versus-copy\n",
      "  This is separate from the ipykernel package so we can avoid doing imports until\n"
     ]
    },
    {
     "data": {
      "text/html": [
       "<div>\n",
       "<style scoped>\n",
       "    .dataframe tbody tr th:only-of-type {\n",
       "        vertical-align: middle;\n",
       "    }\n",
       "\n",
       "    .dataframe tbody tr th {\n",
       "        vertical-align: top;\n",
       "    }\n",
       "\n",
       "    .dataframe thead th {\n",
       "        text-align: right;\n",
       "    }\n",
       "</style>\n",
       "<table border=\"1\" class=\"dataframe\">\n",
       "  <thead>\n",
       "    <tr style=\"text-align: right;\">\n",
       "      <th></th>\n",
       "      <th>Pickup_DateTime</th>\n",
       "      <th>DropOff_datetime</th>\n",
       "      <th>PUlocationID</th>\n",
       "      <th>DOlocationID</th>\n",
       "      <th>SR_Flag</th>\n",
       "      <th>Dispatching_base_number</th>\n",
       "      <th>Dispatching_base_num</th>\n",
       "      <th>Entity</th>\n",
       "      <th>pickup_date</th>\n",
       "    </tr>\n",
       "  </thead>\n",
       "  <tbody>\n",
       "    <tr>\n",
       "      <th>267</th>\n",
       "      <td>2018-06-06 14:52:08</td>\n",
       "      <td>2018-06-06 15:23:50</td>\n",
       "      <td>138.0</td>\n",
       "      <td>161.0</td>\n",
       "      <td>NaN</td>\n",
       "      <td>B02510</td>\n",
       "      <td>NaN</td>\n",
       "      <td>Lyft</td>\n",
       "      <td>2018-06-06 14:52:08</td>\n",
       "    </tr>\n",
       "    <tr>\n",
       "      <th>282</th>\n",
       "      <td>2018-06-06 14:52:18</td>\n",
       "      <td>2018-06-06 15:25:47</td>\n",
       "      <td>132.0</td>\n",
       "      <td>138.0</td>\n",
       "      <td>NaN</td>\n",
       "      <td>B02510</td>\n",
       "      <td>NaN</td>\n",
       "      <td>Lyft</td>\n",
       "      <td>2018-06-06 14:52:18</td>\n",
       "    </tr>\n",
       "  </tbody>\n",
       "</table>\n",
       "</div>"
      ],
      "text/plain": [
       "         Pickup_DateTime     DropOff_datetime  PUlocationID  DOlocationID  \\\n",
       "267  2018-06-06 14:52:08  2018-06-06 15:23:50         138.0         161.0   \n",
       "282  2018-06-06 14:52:18  2018-06-06 15:25:47         132.0         138.0   \n",
       "\n",
       "     SR_Flag Dispatching_base_number  Dispatching_base_num Entity  \\\n",
       "267      NaN                  B02510                   NaN   Lyft   \n",
       "282      NaN                  B02510                   NaN   Lyft   \n",
       "\n",
       "            pickup_date  \n",
       "267 2018-06-06 14:52:08  \n",
       "282 2018-06-06 14:52:18  "
      ]
     },
     "execution_count": 24,
     "metadata": {},
     "output_type": "execute_result"
    }
   ],
   "source": [
    "#Selecting the trip data only the PUlocationID from EWR,JFK and LGA(1,132,138) location\n",
    "df_trip_airport=df_trip_data.loc[df_trip_data['PUlocationID'].isin([1,132,138])]\n",
    "df_trip_airport['pickup_date']=pd.to_datetime(df_trip_airport['Pickup_DateTime'])\n",
    "df_trip_airport.head(2)"
   ]
  },
  {
   "cell_type": "code",
   "execution_count": 25,
   "metadata": {},
   "outputs": [
    {
     "name": "stderr",
     "output_type": "stream",
     "text": [
      "C:\\ProgramData\\Anaconda3\\lib\\site-packages\\ipykernel_launcher.py:2: SettingWithCopyWarning: \n",
      "A value is trying to be set on a copy of a slice from a DataFrame.\n",
      "Try using .loc[row_indexer,col_indexer] = value instead\n",
      "\n",
      "See the caveats in the documentation: http://pandas.pydata.org/pandas-docs/stable/indexing.html#indexing-view-versus-copy\n",
      "  \n"
     ]
    }
   ],
   "source": [
    "#Extracting the Days from date to create three (10-10) days group\n",
    "df_trip_airport['Days'] = pd.DatetimeIndex(df_trip_airport['pickup_date']).day"
   ]
  },
  {
   "cell_type": "code",
   "execution_count": 26,
   "metadata": {},
   "outputs": [
    {
     "data": {
      "text/html": [
       "<div>\n",
       "<style scoped>\n",
       "    .dataframe tbody tr th:only-of-type {\n",
       "        vertical-align: middle;\n",
       "    }\n",
       "\n",
       "    .dataframe tbody tr th {\n",
       "        vertical-align: top;\n",
       "    }\n",
       "\n",
       "    .dataframe thead th {\n",
       "        text-align: right;\n",
       "    }\n",
       "</style>\n",
       "<table border=\"1\" class=\"dataframe\">\n",
       "  <thead>\n",
       "    <tr style=\"text-align: right;\">\n",
       "      <th></th>\n",
       "      <th>Pickup_DateTime</th>\n",
       "      <th>DropOff_datetime</th>\n",
       "      <th>PUlocationID</th>\n",
       "      <th>DOlocationID</th>\n",
       "      <th>SR_Flag</th>\n",
       "      <th>Dispatching_base_number</th>\n",
       "      <th>Dispatching_base_num</th>\n",
       "      <th>Entity</th>\n",
       "      <th>pickup_date</th>\n",
       "      <th>Days</th>\n",
       "    </tr>\n",
       "  </thead>\n",
       "  <tbody>\n",
       "    <tr>\n",
       "      <th>267</th>\n",
       "      <td>2018-06-06 14:52:08</td>\n",
       "      <td>2018-06-06 15:23:50</td>\n",
       "      <td>138.0</td>\n",
       "      <td>161.0</td>\n",
       "      <td>NaN</td>\n",
       "      <td>B02510</td>\n",
       "      <td>NaN</td>\n",
       "      <td>Lyft</td>\n",
       "      <td>2018-06-06 14:52:08</td>\n",
       "      <td>6</td>\n",
       "    </tr>\n",
       "    <tr>\n",
       "      <th>282</th>\n",
       "      <td>2018-06-06 14:52:18</td>\n",
       "      <td>2018-06-06 15:25:47</td>\n",
       "      <td>132.0</td>\n",
       "      <td>138.0</td>\n",
       "      <td>NaN</td>\n",
       "      <td>B02510</td>\n",
       "      <td>NaN</td>\n",
       "      <td>Lyft</td>\n",
       "      <td>2018-06-06 14:52:18</td>\n",
       "      <td>6</td>\n",
       "    </tr>\n",
       "  </tbody>\n",
       "</table>\n",
       "</div>"
      ],
      "text/plain": [
       "         Pickup_DateTime     DropOff_datetime  PUlocationID  DOlocationID  \\\n",
       "267  2018-06-06 14:52:08  2018-06-06 15:23:50         138.0         161.0   \n",
       "282  2018-06-06 14:52:18  2018-06-06 15:25:47         132.0         138.0   \n",
       "\n",
       "     SR_Flag Dispatching_base_number  Dispatching_base_num Entity  \\\n",
       "267      NaN                  B02510                   NaN   Lyft   \n",
       "282      NaN                  B02510                   NaN   Lyft   \n",
       "\n",
       "            pickup_date  Days  \n",
       "267 2018-06-06 14:52:08     6  \n",
       "282 2018-06-06 14:52:18     6  "
      ]
     },
     "execution_count": 26,
     "metadata": {},
     "output_type": "execute_result"
    }
   ],
   "source": [
    "df_trip_airport.head(2)"
   ]
  },
  {
   "cell_type": "code",
   "execution_count": 28,
   "metadata": {},
   "outputs": [
    {
     "name": "stderr",
     "output_type": "stream",
     "text": [
      "C:\\ProgramData\\Anaconda3\\lib\\site-packages\\pandas\\core\\indexing.py:543: SettingWithCopyWarning: \n",
      "A value is trying to be set on a copy of a slice from a DataFrame.\n",
      "Try using .loc[row_indexer,col_indexer] = value instead\n",
      "\n",
      "See the caveats in the documentation: http://pandas.pydata.org/pandas-docs/stable/indexing.html#indexing-view-versus-copy\n",
      "  self.obj[item] = s\n"
     ]
    },
    {
     "data": {
      "text/html": [
       "<div>\n",
       "<style scoped>\n",
       "    .dataframe tbody tr th:only-of-type {\n",
       "        vertical-align: middle;\n",
       "    }\n",
       "\n",
       "    .dataframe tbody tr th {\n",
       "        vertical-align: top;\n",
       "    }\n",
       "\n",
       "    .dataframe thead th {\n",
       "        text-align: right;\n",
       "    }\n",
       "</style>\n",
       "<table border=\"1\" class=\"dataframe\">\n",
       "  <thead>\n",
       "    <tr style=\"text-align: right;\">\n",
       "      <th></th>\n",
       "      <th>Pickup_DateTime</th>\n",
       "      <th>DropOff_datetime</th>\n",
       "      <th>PUlocationID</th>\n",
       "      <th>DOlocationID</th>\n",
       "      <th>SR_Flag</th>\n",
       "      <th>Dispatching_base_number</th>\n",
       "      <th>Dispatching_base_num</th>\n",
       "      <th>Entity</th>\n",
       "      <th>pickup_date</th>\n",
       "      <th>Days</th>\n",
       "      <th>Group</th>\n",
       "    </tr>\n",
       "  </thead>\n",
       "  <tbody>\n",
       "    <tr>\n",
       "      <th>267</th>\n",
       "      <td>2018-06-06 14:52:08</td>\n",
       "      <td>2018-06-06 15:23:50</td>\n",
       "      <td>138.0</td>\n",
       "      <td>161.0</td>\n",
       "      <td>NaN</td>\n",
       "      <td>B02510</td>\n",
       "      <td>NaN</td>\n",
       "      <td>Lyft</td>\n",
       "      <td>2018-06-06 14:52:08</td>\n",
       "      <td>6</td>\n",
       "      <td>1.0</td>\n",
       "    </tr>\n",
       "    <tr>\n",
       "      <th>282</th>\n",
       "      <td>2018-06-06 14:52:18</td>\n",
       "      <td>2018-06-06 15:25:47</td>\n",
       "      <td>132.0</td>\n",
       "      <td>138.0</td>\n",
       "      <td>NaN</td>\n",
       "      <td>B02510</td>\n",
       "      <td>NaN</td>\n",
       "      <td>Lyft</td>\n",
       "      <td>2018-06-06 14:52:18</td>\n",
       "      <td>6</td>\n",
       "      <td>1.0</td>\n",
       "    </tr>\n",
       "  </tbody>\n",
       "</table>\n",
       "</div>"
      ],
      "text/plain": [
       "         Pickup_DateTime     DropOff_datetime  PUlocationID  DOlocationID  \\\n",
       "267  2018-06-06 14:52:08  2018-06-06 15:23:50         138.0         161.0   \n",
       "282  2018-06-06 14:52:18  2018-06-06 15:25:47         132.0         138.0   \n",
       "\n",
       "     SR_Flag Dispatching_base_number  Dispatching_base_num Entity  \\\n",
       "267      NaN                  B02510                   NaN   Lyft   \n",
       "282      NaN                  B02510                   NaN   Lyft   \n",
       "\n",
       "            pickup_date  Days  Group  \n",
       "267 2018-06-06 14:52:08     6    1.0  \n",
       "282 2018-06-06 14:52:18     6    1.0  "
      ]
     },
     "execution_count": 28,
     "metadata": {},
     "output_type": "execute_result"
    }
   ],
   "source": [
    "#Creating a Group colummn by assuming 1-10 days as group1,11-20 as group2 and above 21 as group3\n",
    "#df_trip_airport['group']=df_trip_airport.loc[(df_trip_airport['Days']<11) & (df_trip_airport['Days']>0),1]\n",
    "df_trip_airport.loc[df_trip_airport.Days <11 , 'Group'] = 1 \n",
    "df_trip_airport.loc[(df_trip_airport.Days <21) & (df_trip_airport.Days >10), 'Group'] = 2\n",
    "df_trip_airport.loc[(df_trip_airport.Days >20), 'Group'] = 3\n",
    "df_trip_airport.head(2)"
   ]
  },
  {
   "cell_type": "code",
   "execution_count": 141,
   "metadata": {},
   "outputs": [
    {
     "data": {
      "text/html": [
       "<div>\n",
       "<style scoped>\n",
       "    .dataframe tbody tr th:only-of-type {\n",
       "        vertical-align: middle;\n",
       "    }\n",
       "\n",
       "    .dataframe tbody tr th {\n",
       "        vertical-align: top;\n",
       "    }\n",
       "\n",
       "    .dataframe thead th {\n",
       "        text-align: right;\n",
       "    }\n",
       "</style>\n",
       "<table border=\"1\" class=\"dataframe\">\n",
       "  <thead>\n",
       "    <tr style=\"text-align: right;\">\n",
       "      <th></th>\n",
       "      <th>Pickup_DateTime</th>\n",
       "      <th>DropOff_datetime</th>\n",
       "      <th>PUlocationID</th>\n",
       "      <th>DOlocationID</th>\n",
       "      <th>SR_Flag</th>\n",
       "      <th>Dispatching_base_number</th>\n",
       "      <th>Dispatching_base_num</th>\n",
       "      <th>Entity</th>\n",
       "      <th>pickup_date</th>\n",
       "      <th>month</th>\n",
       "      <th>Days</th>\n",
       "      <th>Group</th>\n",
       "    </tr>\n",
       "  </thead>\n",
       "  <tbody>\n",
       "    <tr>\n",
       "      <th>24171</th>\n",
       "      <td>2018-06-25 14:00:00</td>\n",
       "      <td>2018-06-25 15:43:32</td>\n",
       "      <td>132.0</td>\n",
       "      <td>9.0</td>\n",
       "      <td>NaN</td>\n",
       "      <td>B02925</td>\n",
       "      <td>NaN</td>\n",
       "      <td>Others</td>\n",
       "      <td>2018-06-25 14:00:00</td>\n",
       "      <td>6</td>\n",
       "      <td>25</td>\n",
       "      <td>3.0</td>\n",
       "    </tr>\n",
       "    <tr>\n",
       "      <th>24172</th>\n",
       "      <td>2018-06-25 14:15:00</td>\n",
       "      <td>2018-06-25 15:51:27</td>\n",
       "      <td>132.0</td>\n",
       "      <td>9.0</td>\n",
       "      <td>NaN</td>\n",
       "      <td>B02925</td>\n",
       "      <td>NaN</td>\n",
       "      <td>Others</td>\n",
       "      <td>2018-06-25 14:15:00</td>\n",
       "      <td>6</td>\n",
       "      <td>25</td>\n",
       "      <td>3.0</td>\n",
       "    </tr>\n",
       "  </tbody>\n",
       "</table>\n",
       "</div>"
      ],
      "text/plain": [
       "           Pickup_DateTime     DropOff_datetime  PUlocationID  DOlocationID  \\\n",
       "24171  2018-06-25 14:00:00  2018-06-25 15:43:32         132.0           9.0   \n",
       "24172  2018-06-25 14:15:00  2018-06-25 15:51:27         132.0           9.0   \n",
       "\n",
       "       SR_Flag Dispatching_base_number  Dispatching_base_num  Entity  \\\n",
       "24171      NaN                  B02925                   NaN  Others   \n",
       "24172      NaN                  B02925                   NaN  Others   \n",
       "\n",
       "              pickup_date  month  Days  Group  \n",
       "24171 2018-06-25 14:00:00      6    25    3.0  \n",
       "24172 2018-06-25 14:15:00      6    25    3.0  "
      ]
     },
     "execution_count": 141,
     "metadata": {},
     "output_type": "execute_result"
    }
   ],
   "source": [
    "df_trip_airport.loc[(df_trip_airport.Group>2)].head(2)"
   ]
  },
  {
   "cell_type": "code",
   "execution_count": 103,
   "metadata": {},
   "outputs": [
    {
     "data": {
      "text/plain": [
       "Entity\n",
       "Lyft      167559\n",
       "Others     72299\n",
       "Uber      317297\n",
       "Via         5060\n",
       "Name: Dispatching_base_number, dtype: int64"
      ]
     },
     "execution_count": 103,
     "metadata": {},
     "output_type": "execute_result"
    }
   ],
   "source": [
    "#Entity wise total pick ups in june 2018\n",
    "df_trip_airport.groupby('Entity')['Dispatching_base_number'].count()"
   ]
  },
  {
   "cell_type": "code",
   "execution_count": 30,
   "metadata": {},
   "outputs": [
    {
     "data": {
      "text/plain": [
       "Entity  Group\n",
       "Lyft    1.0       55450\n",
       "        2.0       56155\n",
       "        3.0       55954\n",
       "Others  1.0       23784\n",
       "        2.0       24387\n",
       "        3.0       24128\n",
       "Uber    1.0      106184\n",
       "        2.0      106084\n",
       "        3.0      105029\n",
       "Via     1.0         906\n",
       "        2.0        2261\n",
       "        3.0        1893\n",
       "Name: Dispatching_base_number, dtype: int64"
      ]
     },
     "execution_count": 30,
     "metadata": {},
     "output_type": "execute_result"
    }
   ],
   "source": [
    "#Entity wise and date range wise pick ups count\n",
    "df_trip_airport.groupby(['Entity','Group'])['Dispatching_base_number'].count()"
   ]
  },
  {
   "cell_type": "code",
   "execution_count": 18,
   "metadata": {},
   "outputs": [
    {
     "data": {
      "text/plain": [
       "Index(['LocationID', 'Borough', 'Zone', 'service_zone'], dtype='object')"
      ]
     },
     "execution_count": 18,
     "metadata": {},
     "output_type": "execute_result"
    }
   ],
   "source": [
    "df_zone_data.columns"
   ]
  },
  {
   "cell_type": "code",
   "execution_count": 17,
   "metadata": {},
   "outputs": [
    {
     "data": {
      "text/html": [
       "<div>\n",
       "<style scoped>\n",
       "    .dataframe tbody tr th:only-of-type {\n",
       "        vertical-align: middle;\n",
       "    }\n",
       "\n",
       "    .dataframe tbody tr th {\n",
       "        vertical-align: top;\n",
       "    }\n",
       "\n",
       "    .dataframe thead th {\n",
       "        text-align: right;\n",
       "    }\n",
       "</style>\n",
       "<table border=\"1\" class=\"dataframe\">\n",
       "  <thead>\n",
       "    <tr style=\"text-align: right;\">\n",
       "      <th></th>\n",
       "      <th>service_zone</th>\n",
       "      <th>LocationID</th>\n",
       "    </tr>\n",
       "  </thead>\n",
       "  <tbody>\n",
       "    <tr>\n",
       "      <th>0</th>\n",
       "      <td>Airports</td>\n",
       "      <td>2</td>\n",
       "    </tr>\n",
       "    <tr>\n",
       "      <th>1</th>\n",
       "      <td>Boro Zone</td>\n",
       "      <td>205</td>\n",
       "    </tr>\n",
       "    <tr>\n",
       "      <th>2</th>\n",
       "      <td>EWR</td>\n",
       "      <td>1</td>\n",
       "    </tr>\n",
       "    <tr>\n",
       "      <th>3</th>\n",
       "      <td>Yellow Zone</td>\n",
       "      <td>55</td>\n",
       "    </tr>\n",
       "  </tbody>\n",
       "</table>\n",
       "</div>"
      ],
      "text/plain": [
       "  service_zone  LocationID\n",
       "0     Airports           2\n",
       "1    Boro Zone         205\n",
       "2          EWR           1\n",
       "3  Yellow Zone          55"
      ]
     },
     "execution_count": 17,
     "metadata": {},
     "output_type": "execute_result"
    }
   ],
   "source": [
    "df_zone_data.groupby('service_zone')['LocationID'].count().reset_index()"
   ]
  },
  {
   "cell_type": "code",
   "execution_count": 121,
   "metadata": {},
   "outputs": [
    {
     "name": "stdout",
     "output_type": "stream",
     "text": [
      "2015-01-08\n"
     ]
    }
   ],
   "source": [
    "d='2015-01-08 22:44:09' \n",
    "date=pd.to_datetime(d).date()\n",
    "print(date)\n"
   ]
  }
 ],
 "metadata": {
  "kernelspec": {
   "display_name": "Python 3",
   "language": "python",
   "name": "python3"
  },
  "language_info": {
   "codemirror_mode": {
    "name": "ipython",
    "version": 3
   },
   "file_extension": ".py",
   "mimetype": "text/x-python",
   "name": "python",
   "nbconvert_exporter": "python",
   "pygments_lexer": "ipython3",
   "version": "3.6.5"
  }
 },
 "nbformat": 4,
 "nbformat_minor": 2
}
